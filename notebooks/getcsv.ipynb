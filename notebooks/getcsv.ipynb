{
 "cells": [
  {
   "cell_type": "code",
   "execution_count": 4,
   "metadata": {},
   "outputs": [
    {
     "name": "stdout",
     "output_type": "stream",
     "text": [
      "CSV file created successfully!\n"
     ]
    }
   ],
   "source": [
    "import json\n",
    "import csv\n",
    "\n",
    "file_name = \"entertainment\"\n",
    "\n",
    "input_json = f\"../data/interim/{file_name}.json\"\n",
    "\n",
    "# Load JSON data\n",
    "with open(input_json, 'r', encoding=\"utf-8\") as json_file:\n",
    "    data = json.load(json_file)\n",
    "\n",
    "# Open CSV file to write\n",
    "with open(f'../data/processed/{file_name}.csv', 'w', newline='', encoding='utf-8') as csv_file:\n",
    "    writer = csv.writer(csv_file)\n",
    "    \n",
    "    # Write header\n",
    "    writer.writerow(['article', 'highlights'])\n",
    "    \n",
    "    # Write data rows\n",
    "    for item in data:\n",
    "        # print(item)\n",
    "        article = item.get('data', {}).get('Content', '')\n",
    "        highlights = item.get('annotations', [{}])[0].get('result', [{}])[0].get('value', {}).get('text', [''])[0]\n",
    "        writer.writerow([article, highlights])\n",
    "\n",
    "print(\"CSV file created successfully!\")\n"
   ]
  },
  {
   "cell_type": "code",
   "execution_count": null,
   "metadata": {},
   "outputs": [],
   "source": []
  }
 ],
 "metadata": {
  "kernelspec": {
   "display_name": "venv",
   "language": "python",
   "name": "python3"
  },
  "language_info": {
   "codemirror_mode": {
    "name": "ipython",
    "version": 3
   },
   "file_extension": ".py",
   "mimetype": "text/x-python",
   "name": "python",
   "nbconvert_exporter": "python",
   "pygments_lexer": "ipython3",
   "version": "3.9.5"
  }
 },
 "nbformat": 4,
 "nbformat_minor": 2
}
