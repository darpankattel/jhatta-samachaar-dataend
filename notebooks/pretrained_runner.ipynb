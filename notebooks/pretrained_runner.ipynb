{
 "cells": [
  {
   "cell_type": "code",
   "execution_count": 1,
   "metadata": {},
   "outputs": [],
   "source": [
    "# !pip install torch datasets transformers\n",
    "# !pip install sentencepiece"
   ]
  },
  {
   "cell_type": "code",
   "execution_count": 1,
   "metadata": {},
   "outputs": [],
   "source": [
    "from datasets import load_dataset\n",
    "from transformers import T5ForConditionalGeneration, T5Tokenizer"
   ]
  },
  {
   "cell_type": "code",
   "execution_count": 2,
   "metadata": {},
   "outputs": [],
   "source": [
    "model = T5ForConditionalGeneration.from_pretrained('../models/kaggle/working/pre_trained/model/pretrained_t5-small')\n",
    "tokenizer = T5Tokenizer.from_pretrained('../models/kaggle/working/pre_trained/model/pretrained_t5-small-tokenizer')"
   ]
  },
  {
   "cell_type": "code",
   "execution_count": 3,
   "metadata": {},
   "outputs": [],
   "source": [
    "def summarize(article):\n",
    "    inputs = tokenizer(f\"summarize: {article}\", return_tensors='pt', max_length=1024, truncation=True)\n",
    "    summary_ids = model.generate(inputs['input_ids'], max_length=150, min_length=40, length_penalty=2.0, num_beams=4, early_stopping=True)\n",
    "    return tokenizer.decode(summary_ids[0], skip_special_tokens=True)"
   ]
  },
  {
   "cell_type": "code",
   "execution_count": 5,
   "metadata": {},
   "outputs": [
    {
     "name": "stdout",
     "output_type": "stream",
     "text": [
      "New Zealand batsman Darrell Mitchell believes his team is made up of a whole Kiwi. The Black Caps won the first Test in Bengaluru for the first time since 1988, with Kane Williamson recovering from injury, and his only aim is to prepare for the series against England. The loss was the biggest in New Zealand cricket history, with Tim Southee stepping down after a 2-0 defeat in Sri Lanka. The team's performance was a 'clean sweep', with Indian captain Rohit Sharma claiming responsibility for the loss. Mitchell says, 'I am very saddened by the loss.\n"
     ]
    }
   ],
   "source": [
    "new_article = \"\"\"New Zealand batsman Darrell Mitchell believes his team is made up of 'a whole Kiwi'. The same team created a historic 3-0 whitewash in the Test cricket series against India, the biggest power in world cricket. The visiting team only won the third and final Test by 25 runs on Sunday, that too within three days.\n",
    "\n",
    "As a result, India suffered a 'clean sweep' defeat in a Test cricket series for only the second time at their home ground. It is also easy to imagine, how great is the achievement of New Zealand itself. India has a population of 1.4 billion. Almost all of them are fond of cricket. The same cricketing power has been completely surpassed by a country whose population is 270 times smaller in size. \n",
    " Mitchell says, 'We are a total Kiwi. And by representing our country, we tried to compete with the world's cricket power. We all know that India is a very strong team in cricket. So history itself is a witness, New Zealand has repeatedly shocked India in cricket. The Black Caps won the first Test in Bengaluru for the first time since 1988 on Indian soil. After winning the second Test, New Zealand won the first Test series in India against India, that too without Kane Williamson. He probably did not go to India with the prospect of defeat. \n",
    " Now Williamson is recovering from injury and his only aim is to prepare for the series against England. In his absence, young William Young occupied the third-order batting position and although he made his mark. He played innings of 71 and 51 runs in the last Test. According to Yong, this victory of New Zealand is big in itself. Not only him, but all his fellow players will never forget the memories associated with this series. He says, 'That's why we should have played so well in this series.' \n",
    " He became the 'Player of the Series'. 244 runs came out of his bat in six innings. So he also wants to be extremely happy with his achievement. New Zealand won their first Test series on foreign soil in 1969 and it was against Pakistan. Under the leadership of Graham Dowling, New Zealand managed to win the three-Test series 1-0. \n",
    " It was only in the eighties and nineties that New Zealand did very well in Test cricket. Between 1979 and 1981, New Zealand beat the West Indies and India in Test series at home. This time too, New Zealand's preparation itself was not good. Before coming to India, New Zealand had lost the Test series by 2-0 in Sri Lanka. But this team has defeated India for the first time in 12 years in a Test series on its own soil. \n",
    " Tim Southee, who became the full-time captain for the first time, stepped down after the defeat in Sri Lanka. He now says, \"\"Even after returning home, it will take us some time to believe in this victory in India.\"\" Our win was truly unique, the biggest in New Zealand cricket history. New Zealand will now play a three-Test series against England at home. The first Test will be played at Christ Church, followed by Wellington and Hamilton. \n",
    " The New Zealand team and players are happy with this series win, but the Indian team is more saddened by this loss. Almost all the former players are criticizing the current Indian team and everyone is busy analyzing the facts, why the Indian team was defeated so badly? \n",
    " Indian captain Rohit Sharma is busy defending his team. But he also admits that the performance of the team was really bad. He says, ``It happens sometimes in cricket, nothing goes well. This series has been like that for us. I am very sad about the result.'' His analysis is, \"\"Such a defeat is the worst time in everyone's sports life. As the captain, I take full responsibility for this defeat. I couldn't do well with the bat either.'\n",
    " \"\"\"\n",
    "summary = summarize(new_article)\n",
    "print(summary)"
   ]
  },
  {
   "cell_type": "code",
   "execution_count": null,
   "metadata": {},
   "outputs": [],
   "source": []
  }
 ],
 "metadata": {
  "kernelspec": {
   "display_name": "base",
   "language": "python",
   "name": "python3"
  },
  "language_info": {
   "codemirror_mode": {
    "name": "ipython",
    "version": 3
   },
   "file_extension": ".py",
   "mimetype": "text/x-python",
   "name": "python",
   "nbconvert_exporter": "python",
   "pygments_lexer": "ipython3",
   "version": "3.11.7"
  }
 },
 "nbformat": 4,
 "nbformat_minor": 2
}
